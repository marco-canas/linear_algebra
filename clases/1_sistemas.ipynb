{
 "cells": [
  {
   "cell_type": "markdown",
   "id": "4d8fed22",
   "metadata": {
    "slideshow": {
     "slide_type": "slide"
    }
   },
   "source": [
    "<table align=\"left\">\n",
    "  <td>\n",
    "    <a href=\"https://colab.research.google.com/github/marco-canas/14_algebra_lineal/blob/main/1_sistemas.ipynb\" target=\"_parent\"><img src=\"https://colab.research.google.com/assets/colab-badge.svg\" alt=\"Open In Colab\"/></a>\n",
    "  </td>\n",
    "</table>"
   ]
  },
  {
   "cell_type": "markdown",
   "id": "e4454cc0",
   "metadata": {
    "slideshow": {
     "slide_type": "slide"
    }
   },
   "source": [
    "## [Video de apoyo]()  "
   ]
  },
  {
   "cell_type": "markdown",
   "id": "f4ecb1aa",
   "metadata": {
    "slideshow": {
     "slide_type": "slide"
    }
   },
   "source": [
    "# El concepto de matriz y algunas de sus propiedades"
   ]
  },
  {
   "cell_type": "markdown",
   "id": "59e5bc4a",
   "metadata": {
    "slideshow": {
     "slide_type": "slide"
    }
   },
   "source": [
    "## Objetivo de aprendizaje"
   ]
  },
  {
   "cell_type": "markdown",
   "id": "c8489a75",
   "metadata": {
    "slideshow": {
     "slide_type": "slide"
    }
   },
   "source": [
    "1. Manejar el concepto de matriz y algunas de sus propiedades\n",
    "2. Plantear un sistema de ecuaciones lineales como un problema de la teoría de matrices\n",
    "3. Aprender a encontrar la solución de un sistema de ecuaciones con $m$ ecuaciones y $n$ incognitas. "
   ]
  },
  {
   "cell_type": "markdown",
   "id": "ccf8e0bc",
   "metadata": {
    "slideshow": {
     "slide_type": "slide"
    }
   },
   "source": [
    "Escriba una la matriz $A$ de orden $7 \\times 3$ tal que \n",
    " \n",
    " $$ a_{ij} = i - 3j \\ \\ \\ \\text{ cuando } i > j  \\text{ por debajo de la diagonal principal}$$\n",
    " \n",
    " $$ a_{ij} = (-1)^{1+j}, \\ \\ \\text{ cuando } i = j \\text{ y } \\text{ (a través de la diagonal principal)} $$\n",
    " \n",
    " $$ a_{ij} =  \\frac{i - 2j}{3} \\ \\ \\ \\text{ para } i < j \\text{  (por encima de la diagonal principal)} $$\n",
    " "
   ]
  },
  {
   "cell_type": "code",
   "execution_count": 24,
   "id": "05507e61",
   "metadata": {
    "slideshow": {
     "slide_type": "slide"
    }
   },
   "outputs": [
    {
     "data": {
      "text/latex": [
       "$\\displaystyle \\left[\\begin{matrix}1 & -1 & - \\frac{5}{3}\\\\-1 & -1 & - \\frac{4}{3}\\\\0 & -3 & 1\\\\1 & -2 & -5\\\\2 & -1 & -4\\\\3 & 0 & -3\\\\4 & 1 & -2\\end{matrix}\\right]$"
      ],
      "text/plain": [
       "Matrix([\n",
       "[ 1, -1, -5/3],\n",
       "[-1, -1, -4/3],\n",
       "[ 0, -3,    1],\n",
       "[ 1, -2,   -5],\n",
       "[ 2, -1,   -4],\n",
       "[ 3,  0,   -3],\n",
       "[ 4,  1,   -2]])"
      ]
     },
     "execution_count": 24,
     "metadata": {},
     "output_type": "execute_result"
    }
   ],
   "source": [
    "from sympy import *\n",
    "\n",
    "A = Matrix.zeros(7,3)\n",
    "\n",
    "# i,j son los indices para matrices en Python. \n",
    "\n",
    "for i in range(7):\n",
    "    for j in range(3):\n",
    "        I = i+1 # indices para matrices de la literatura o de los textos\n",
    "        J = j+1\n",
    "        if i > j:                      # debajo de la diagonal principal \n",
    "            A[i,j] = I - 3*J\n",
    "        elif i == j:                   # sobre la diagonal principal\n",
    "            A[i,j] = (-1)**(1+J)\n",
    "        elif i < j:                    # encima de la diagonal principal \n",
    "            A[i,j] = Rational((I-2*J),3) \n",
    "  \n",
    "A "
   ]
  },
  {
   "cell_type": "markdown",
   "id": "78b963e3",
   "metadata": {
    "slideshow": {
     "slide_type": "slide"
    }
   },
   "source": [
    "## Descripción verbal del ejercicio anterior. \n",
    "\n",
    "\n",
    "Se pide escriba una la matriz $A$ de orden $7 \\times 3$ tal que:\n",
    "\n",
    "* los elementos debajo de la diagonal principal sean función de los indices respectivos i y j de la siguiente manera:\n",
    "\n",
    "$$ a_{ij} = i - 3j $$\n",
    "\n",
    "recuerde que los elementos de una matriz $A$ que están debajo de la diagonal principal son los que satisfacen que el indice de la fila es mayor que el indice de la columna (es decir, (i > j)). \n"
   ]
  },
  {
   "cell_type": "markdown",
   "id": "f85fbe7d",
   "metadata": {
    "slideshow": {
     "slide_type": "slide"
    }
   },
   "source": []
  },
  {
   "cell_type": "markdown",
   "id": "f1fba40a",
   "metadata": {},
   "source": [
    "# Problema de asesoría en cálculo integral"
   ]
  },
  {
   "cell_type": "markdown",
   "id": "a3430d88",
   "metadata": {},
   "source": [
    "Sea $p(x)$ el polinomio de grado menor que $3$ tal que $p(-1) = 2$, $p(0) = 4$ y $p(1) = 2$. Calcule\n",
    "\n",
    "$$ \\int \\frac{p(x)}{x^{3} + x^{2}}dx $$"
   ]
  },
  {
   "cell_type": "markdown",
   "id": "5f41369f",
   "metadata": {},
   "source": [
    "## Solución"
   ]
  },
  {
   "cell_type": "code",
   "execution_count": null,
   "id": "40022eaa",
   "metadata": {},
   "outputs": [],
   "source": []
  },
  {
   "cell_type": "code",
   "execution_count": null,
   "id": "6077fe78",
   "metadata": {},
   "outputs": [],
   "source": []
  }
 ],
 "metadata": {
  "celltoolbar": "Slideshow",
  "kernelspec": {
   "display_name": "Python 3 (ipykernel)",
   "language": "python",
   "name": "python3"
  },
  "language_info": {
   "codemirror_mode": {
    "name": "ipython",
    "version": 3
   },
   "file_extension": ".py",
   "mimetype": "text/x-python",
   "name": "python",
   "nbconvert_exporter": "python",
   "pygments_lexer": "ipython3",
   "version": "3.9.13"
  }
 },
 "nbformat": 4,
 "nbformat_minor": 5
}
